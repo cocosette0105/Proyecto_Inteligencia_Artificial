{
 "cells": [
  {
   "cell_type": "markdown",
   "id": "e51b88b0",
   "metadata": {},
   "source": [
    "Librerias"
   ]
  },
  {
   "cell_type": "code",
   "execution_count": 1,
   "id": "b409dd0b",
   "metadata": {},
   "outputs": [
    {
     "name": "stdout",
     "output_type": "stream",
     "text": [
      "Librerías importadas correctamente.\n"
     ]
    }
   ],
   "source": [
    "import pandas as pd\n",
    "import seaborn as sns\n",
    "import matplotlib.pyplot as plt\n",
    "from sklearn.model_selection import train_test_split\n",
    "from sklearn.preprocessing import StandardScaler\n",
    "from sklearn.metrics import accuracy_score, roc_auc_score\n",
    "import tensorflow as tf\n",
    "from tensorflow.keras.models import Sequential\n",
    "from tensorflow.keras.layers import Dense, Dropout\n",
    "import joblib # Para guardar el scaler\n",
    "\n",
    "print(\"Librerías importadas correctamente.\")"
   ]
  },
  {
   "cell_type": "markdown",
   "id": "3bee5235",
   "metadata": {},
   "source": [
    "Cargar y Explorar los Datos"
   ]
  },
  {
   "cell_type": "code",
   "execution_count": 2,
   "id": "deabfdc3",
   "metadata": {},
   "outputs": [
    {
     "name": "stdout",
     "output_type": "stream",
     "text": [
      "Primeras 5 filas:\n",
      "   id  age  gender   bmi alcohol_consumption smoking_status  hepatitis_b  \\\n",
      "0   1   68  Female  18.1             Regular         Former            0   \n",
      "1   2   81  Female  19.9          Occasional          Never            0   \n",
      "2   3   58  Female   5.5               Never          Never            0   \n",
      "3   4   44    Male  16.0               Never         Former            0   \n",
      "4   5    7    Male   1.0          Occasional         Former            0   \n",
      "\n",
      "   hepatitis_c  liver_function_score  alpha_fetoprotein_level  \\\n",
      "0            0                  51.9                    16.44   \n",
      "1            0                  41.6                     8.09   \n",
      "2            0                  76.0                     0.64   \n",
      "3            0                  50.3                    19.09   \n",
      "4            0                  39.5                     4.95   \n",
      "\n",
      "   cirrhosis_history  family_history_cancer physical_activity_level  diabetes  \\\n",
      "0                  0                      0                     Low         0   \n",
      "1                  0                      0                Moderate         1   \n",
      "2                  0                      0                Moderate         0   \n",
      "3                  0                      0                     Low         1   \n",
      "4                  1                      0                     Low         1   \n",
      "\n",
      "   liver_cancer  \n",
      "0             0  \n",
      "1             0  \n",
      "2             0  \n",
      "3             0  \n",
      "4             1  \n",
      "\n",
      "Información del DataFrame:\n",
      "<class 'pandas.core.frame.DataFrame'>\n",
      "RangeIndex: 5000 entries, 0 to 4999\n",
      "Data columns (total 15 columns):\n",
      " #   Column                   Non-Null Count  Dtype  \n",
      "---  ------                   --------------  -----  \n",
      " 0   id                       5000 non-null   int64  \n",
      " 1   age                      5000 non-null   int64  \n",
      " 2   gender                   5000 non-null   object \n",
      " 3   bmi                      4976 non-null   float64\n",
      " 4   alcohol_consumption      5000 non-null   object \n",
      " 5   smoking_status           5000 non-null   object \n",
      " 6   hepatitis_b              5000 non-null   int64  \n",
      " 7   hepatitis_c              5000 non-null   int64  \n",
      " 8   liver_function_score     5000 non-null   float64\n",
      " 9   alpha_fetoprotein_level  4992 non-null   float64\n",
      " 10  cirrhosis_history        5000 non-null   int64  \n",
      " 11  family_history_cancer    5000 non-null   int64  \n",
      " 12  physical_activity_level  5000 non-null   object \n",
      " 13  diabetes                 5000 non-null   int64  \n",
      " 14  liver_cancer             5000 non-null   int64  \n",
      "dtypes: float64(3), int64(8), object(4)\n",
      "memory usage: 586.1+ KB\n",
      "\n",
      "Estadísticas descriptivas:\n",
      "                id          age          bmi  hepatitis_b  hepatitis_c  \\\n",
      "count  5000.000000  5000.000000  4976.000000   5000.00000  5000.000000   \n",
      "mean   2500.500000    51.805200    11.492705      0.15120     0.095800   \n",
      "std    1443.520003    21.768648    11.145818      0.35828     0.294346   \n",
      "min       1.000000     3.000000     0.000000      0.00000     0.000000   \n",
      "25%    1250.750000    39.000000     3.900000      0.00000     0.000000   \n",
      "50%    2500.500000    55.000000     7.000000      0.00000     0.000000   \n",
      "75%    3750.250000    69.000000    17.500000      0.00000     0.000000   \n",
      "max    5000.000000    84.000000    43.700000      1.00000     1.000000   \n",
      "\n",
      "       liver_function_score  alpha_fetoprotein_level  cirrhosis_history  \\\n",
      "count           5000.000000              4992.000000        5000.000000   \n",
      "mean              59.247580                11.476072           0.301600   \n",
      "std               22.666868                14.574910           0.458998   \n",
      "min                0.400000                 0.000000           0.000000   \n",
      "25%               50.600000                 1.940000           0.000000   \n",
      "50%               63.600000                 6.730000           0.000000   \n",
      "75%               74.400000                13.962500           1.000000   \n",
      "max              115.700000               136.800000           1.000000   \n",
      "\n",
      "       family_history_cancer     diabetes  liver_cancer  \n",
      "count            5000.000000  5000.000000   5000.000000  \n",
      "mean                0.241400     0.199200      0.217800  \n",
      "std                 0.427975     0.399439      0.412792  \n",
      "min                 0.000000     0.000000      0.000000  \n",
      "25%                 0.000000     0.000000      0.000000  \n",
      "50%                 0.000000     0.000000      0.000000  \n",
      "75%                 0.000000     0.000000      0.000000  \n",
      "max                 1.000000     1.000000      1.000000  \n",
      "\n",
      "Valores nulos por columna:\n",
      "id                          0\n",
      "age                         0\n",
      "gender                      0\n",
      "bmi                        24\n",
      "alcohol_consumption         0\n",
      "smoking_status              0\n",
      "hepatitis_b                 0\n",
      "hepatitis_c                 0\n",
      "liver_function_score        0\n",
      "alpha_fetoprotein_level     8\n",
      "cirrhosis_history           0\n",
      "family_history_cancer       0\n",
      "physical_activity_level     0\n",
      "diabetes                    0\n",
      "liver_cancer                0\n",
      "dtype: int64\n"
     ]
    }
   ],
   "source": [
    "# Cargar el dataset desde el archivo CSV\n",
    "\n",
    "df = pd.read_csv('../data/cancer_dataset.csv')\n",
    "\n",
    "# Vistazo rápido a los datos\n",
    "print(\"Primeras 5 filas:\")\n",
    "print(df.head())\n",
    "\n",
    "print(\"\\nInformación del DataFrame:\")\n",
    "df.info()\n",
    "\n",
    "print(\"\\nEstadísticas descriptivas:\")\n",
    "print(df.describe())\n",
    "\n",
    "print(\"\\nValores nulos por columna:\")\n",
    "print(df.isnull().sum())"
   ]
  },
  {
   "cell_type": "markdown",
   "id": "32f3a4e1",
   "metadata": {},
   "source": [
    "Preprocesamiento de Datos"
   ]
  },
  {
   "cell_type": "code",
   "execution_count": 3,
   "id": "d22ff074",
   "metadata": {},
   "outputs": [
    {
     "name": "stdout",
     "output_type": "stream",
     "text": [
      "Datos preprocesados y listos (con imputación).\n",
      "Forma de X_train_processed: (4000, 20)\n",
      "Forma de X_test_processed: (1000, 20)\n"
     ]
    }
   ],
   "source": [
    "from sklearn.compose import ColumnTransformer\n",
    "from sklearn.preprocessing import OneHotEncoder, StandardScaler\n",
    "from sklearn.impute import SimpleImputer # <--- Importante\n",
    "from sklearn.pipeline import Pipeline     # <--- Importante\n",
    "\n",
    "# 1. Separar características (X) y variable objetivo (y)\n",
    "X = df.drop(['id', 'liver_cancer'], axis=1)\n",
    "y = df['liver_cancer']\n",
    "\n",
    "# 2. Identificar columnas numéricas y categóricas\n",
    "numerical_cols = X.select_dtypes(include=['int64', 'float64']).columns\n",
    "categorical_cols = X.select_dtypes(include=['object']).columns\n",
    "\n",
    "# 3. Crear pipelines de transformación\n",
    "# Pipeline para datos numéricos: \n",
    "#   Paso 1: Imputar NaNs con la media\n",
    "#   Paso 2: Escalar los datos\n",
    "numeric_transformer = Pipeline(steps=[\n",
    "    ('imputer', SimpleImputer(strategy='mean')), # Rellenar valores faltantes\n",
    "    ('scaler', StandardScaler())                # Escalar\n",
    "])\n",
    "\n",
    "# Pipeline para datos categóricos:\n",
    "#   Paso 1: Codificar (One-Hot)\n",
    "categorical_transformer = Pipeline(steps=[\n",
    "    ('encoder', OneHotEncoder(handle_unknown='ignore')) # Ignorar categorías no vistas en 'test'\n",
    "])\n",
    "\n",
    "# 4. Crear el preprocesador que aplica los pipelines a las columnas correctas\n",
    "preprocessor = ColumnTransformer(\n",
    "    transformers=[\n",
    "        ('num', numeric_transformer, numerical_cols),\n",
    "        ('cat', categorical_transformer, categorical_cols)\n",
    "    ])\n",
    "\n",
    "# 5. Dividir los datos\n",
    "X_train, X_test, y_train, y_test = train_test_split(X, y, test_size=0.2, random_state=42, stratify=y)\n",
    "\n",
    "# 6. Aplicar el preprocesador\n",
    "# Se ajusta con los datos de entrenamiento y se transforma\n",
    "X_train_processed = preprocessor.fit_transform(X_train)\n",
    "\n",
    "# Solo se transforma en los datos de prueba\n",
    "X_test_processed = preprocessor.transform(X_test)\n",
    "\n",
    "print(\"Datos preprocesados y listos (con imputación).\")\n",
    "print(\"Forma de X_train_processed:\", X_train_processed.shape)\n",
    "print(\"Forma de X_test_processed:\", X_test_processed.shape)"
   ]
  },
  {
   "cell_type": "markdown",
   "id": "9cba5f2d",
   "metadata": {},
   "source": [
    "Construcción del Modelo de Deep Learning (MLP)"
   ]
  },
  {
   "cell_type": "code",
   "execution_count": 4,
   "id": "1134d7fc",
   "metadata": {},
   "outputs": [
    {
     "name": "stderr",
     "output_type": "stream",
     "text": [
      "c:\\Proyecto_IA\\venv\\Lib\\site-packages\\keras\\src\\layers\\core\\dense.py:92: UserWarning: Do not pass an `input_shape`/`input_dim` argument to a layer. When using Sequential models, prefer using an `Input(shape)` object as the first layer in the model instead.\n",
      "  super().__init__(activity_regularizer=activity_regularizer, **kwargs)\n"
     ]
    },
    {
     "data": {
      "text/html": [
       "<pre style=\"white-space:pre;overflow-x:auto;line-height:normal;font-family:Menlo,'DejaVu Sans Mono',consolas,'Courier New',monospace\"><span style=\"font-weight: bold\">Model: \"sequential\"</span>\n",
       "</pre>\n"
      ],
      "text/plain": [
       "\u001b[1mModel: \"sequential\"\u001b[0m\n"
      ]
     },
     "metadata": {},
     "output_type": "display_data"
    },
    {
     "data": {
      "text/html": [
       "<pre style=\"white-space:pre;overflow-x:auto;line-height:normal;font-family:Menlo,'DejaVu Sans Mono',consolas,'Courier New',monospace\">┏━━━━━━━━━━━━━━━━━━━━━━━━━━━━━━━━━┳━━━━━━━━━━━━━━━━━━━━━━━━┳━━━━━━━━━━━━━━━┓\n",
       "┃<span style=\"font-weight: bold\"> Layer (type)                    </span>┃<span style=\"font-weight: bold\"> Output Shape           </span>┃<span style=\"font-weight: bold\">       Param # </span>┃\n",
       "┡━━━━━━━━━━━━━━━━━━━━━━━━━━━━━━━━━╇━━━━━━━━━━━━━━━━━━━━━━━━╇━━━━━━━━━━━━━━━┩\n",
       "│ dense (<span style=\"color: #0087ff; text-decoration-color: #0087ff\">Dense</span>)                   │ (<span style=\"color: #00d7ff; text-decoration-color: #00d7ff\">None</span>, <span style=\"color: #00af00; text-decoration-color: #00af00\">32</span>)             │           <span style=\"color: #00af00; text-decoration-color: #00af00\">672</span> │\n",
       "├─────────────────────────────────┼────────────────────────┼───────────────┤\n",
       "│ dropout (<span style=\"color: #0087ff; text-decoration-color: #0087ff\">Dropout</span>)               │ (<span style=\"color: #00d7ff; text-decoration-color: #00d7ff\">None</span>, <span style=\"color: #00af00; text-decoration-color: #00af00\">32</span>)             │             <span style=\"color: #00af00; text-decoration-color: #00af00\">0</span> │\n",
       "├─────────────────────────────────┼────────────────────────┼───────────────┤\n",
       "│ dense_1 (<span style=\"color: #0087ff; text-decoration-color: #0087ff\">Dense</span>)                 │ (<span style=\"color: #00d7ff; text-decoration-color: #00d7ff\">None</span>, <span style=\"color: #00af00; text-decoration-color: #00af00\">16</span>)             │           <span style=\"color: #00af00; text-decoration-color: #00af00\">528</span> │\n",
       "├─────────────────────────────────┼────────────────────────┼───────────────┤\n",
       "│ dense_2 (<span style=\"color: #0087ff; text-decoration-color: #0087ff\">Dense</span>)                 │ (<span style=\"color: #00d7ff; text-decoration-color: #00d7ff\">None</span>, <span style=\"color: #00af00; text-decoration-color: #00af00\">1</span>)              │            <span style=\"color: #00af00; text-decoration-color: #00af00\">17</span> │\n",
       "└─────────────────────────────────┴────────────────────────┴───────────────┘\n",
       "</pre>\n"
      ],
      "text/plain": [
       "┏━━━━━━━━━━━━━━━━━━━━━━━━━━━━━━━━━┳━━━━━━━━━━━━━━━━━━━━━━━━┳━━━━━━━━━━━━━━━┓\n",
       "┃\u001b[1m \u001b[0m\u001b[1mLayer (type)                   \u001b[0m\u001b[1m \u001b[0m┃\u001b[1m \u001b[0m\u001b[1mOutput Shape          \u001b[0m\u001b[1m \u001b[0m┃\u001b[1m \u001b[0m\u001b[1m      Param #\u001b[0m\u001b[1m \u001b[0m┃\n",
       "┡━━━━━━━━━━━━━━━━━━━━━━━━━━━━━━━━━╇━━━━━━━━━━━━━━━━━━━━━━━━╇━━━━━━━━━━━━━━━┩\n",
       "│ dense (\u001b[38;5;33mDense\u001b[0m)                   │ (\u001b[38;5;45mNone\u001b[0m, \u001b[38;5;34m32\u001b[0m)             │           \u001b[38;5;34m672\u001b[0m │\n",
       "├─────────────────────────────────┼────────────────────────┼───────────────┤\n",
       "│ dropout (\u001b[38;5;33mDropout\u001b[0m)               │ (\u001b[38;5;45mNone\u001b[0m, \u001b[38;5;34m32\u001b[0m)             │             \u001b[38;5;34m0\u001b[0m │\n",
       "├─────────────────────────────────┼────────────────────────┼───────────────┤\n",
       "│ dense_1 (\u001b[38;5;33mDense\u001b[0m)                 │ (\u001b[38;5;45mNone\u001b[0m, \u001b[38;5;34m16\u001b[0m)             │           \u001b[38;5;34m528\u001b[0m │\n",
       "├─────────────────────────────────┼────────────────────────┼───────────────┤\n",
       "│ dense_2 (\u001b[38;5;33mDense\u001b[0m)                 │ (\u001b[38;5;45mNone\u001b[0m, \u001b[38;5;34m1\u001b[0m)              │            \u001b[38;5;34m17\u001b[0m │\n",
       "└─────────────────────────────────┴────────────────────────┴───────────────┘\n"
      ]
     },
     "metadata": {},
     "output_type": "display_data"
    },
    {
     "data": {
      "text/html": [
       "<pre style=\"white-space:pre;overflow-x:auto;line-height:normal;font-family:Menlo,'DejaVu Sans Mono',consolas,'Courier New',monospace\"><span style=\"font-weight: bold\"> Total params: </span><span style=\"color: #00af00; text-decoration-color: #00af00\">1,217</span> (4.75 KB)\n",
       "</pre>\n"
      ],
      "text/plain": [
       "\u001b[1m Total params: \u001b[0m\u001b[38;5;34m1,217\u001b[0m (4.75 KB)\n"
      ]
     },
     "metadata": {},
     "output_type": "display_data"
    },
    {
     "data": {
      "text/html": [
       "<pre style=\"white-space:pre;overflow-x:auto;line-height:normal;font-family:Menlo,'DejaVu Sans Mono',consolas,'Courier New',monospace\"><span style=\"font-weight: bold\"> Trainable params: </span><span style=\"color: #00af00; text-decoration-color: #00af00\">1,217</span> (4.75 KB)\n",
       "</pre>\n"
      ],
      "text/plain": [
       "\u001b[1m Trainable params: \u001b[0m\u001b[38;5;34m1,217\u001b[0m (4.75 KB)\n"
      ]
     },
     "metadata": {},
     "output_type": "display_data"
    },
    {
     "data": {
      "text/html": [
       "<pre style=\"white-space:pre;overflow-x:auto;line-height:normal;font-family:Menlo,'DejaVu Sans Mono',consolas,'Courier New',monospace\"><span style=\"font-weight: bold\"> Non-trainable params: </span><span style=\"color: #00af00; text-decoration-color: #00af00\">0</span> (0.00 B)\n",
       "</pre>\n"
      ],
      "text/plain": [
       "\u001b[1m Non-trainable params: \u001b[0m\u001b[38;5;34m0\u001b[0m (0.00 B)\n"
      ]
     },
     "metadata": {},
     "output_type": "display_data"
    }
   ],
   "source": [
    "# Construir la arquitectura de la Red Neuronal Multicapa (MLP)\n",
    "model = Sequential([\n",
    "    # Capa de entrada: el shape debe coincidir con el número de características\n",
    "   \n",
    "    Dense(32, activation='relu', input_shape=(X_train_processed.shape[1],)),\n",
    "    \n",
    "    Dropout(0.2), # Capa de regularización para evitar sobreajuste\n",
    "    Dense(16, activation='relu'),\n",
    "    \n",
    "    # Capa de salida: 1 neurona con activación sigmoide para predicción binaria (probabilidad)\n",
    "    Dense(1, activation='sigmoid')\n",
    "])\n",
    "\n",
    "# Compilar el modelo\n",
    "model.compile(optimizer='adam',\n",
    "              loss='binary_crossentropy',\n",
    "              metrics=['accuracy'])\n",
    "\n",
    "model.summary()"
   ]
  },
  {
   "cell_type": "markdown",
   "id": "ab85a5f7",
   "metadata": {},
   "source": [
    "Entrenar el Modelo"
   ]
  },
  {
   "cell_type": "code",
   "execution_count": 5,
   "id": "31b6fd57",
   "metadata": {},
   "outputs": [
    {
     "name": "stdout",
     "output_type": "stream",
     "text": [
      "Epoch 1/50\n",
      "\u001b[1m113/113\u001b[0m \u001b[32m━━━━━━━━━━━━━━━━━━━━\u001b[0m\u001b[37m\u001b[0m \u001b[1m2s\u001b[0m 5ms/step - accuracy: 0.7842 - loss: 0.4793 - val_accuracy: 0.8375 - val_loss: 0.3675\n",
      "Epoch 2/50\n",
      "\u001b[1m113/113\u001b[0m \u001b[32m━━━━━━━━━━━━━━━━━━━━\u001b[0m\u001b[37m\u001b[0m \u001b[1m0s\u001b[0m 3ms/step - accuracy: 0.8433 - loss: 0.3619 - val_accuracy: 0.8775 - val_loss: 0.2925\n",
      "Epoch 3/50\n",
      "\u001b[1m113/113\u001b[0m \u001b[32m━━━━━━━━━━━━━━━━━━━━\u001b[0m\u001b[37m\u001b[0m \u001b[1m0s\u001b[0m 3ms/step - accuracy: 0.8636 - loss: 0.3164 - val_accuracy: 0.8750 - val_loss: 0.2684\n",
      "Epoch 4/50\n",
      "\u001b[1m113/113\u001b[0m \u001b[32m━━━━━━━━━━━━━━━━━━━━\u001b[0m\u001b[37m\u001b[0m \u001b[1m0s\u001b[0m 3ms/step - accuracy: 0.8686 - loss: 0.3042 - val_accuracy: 0.8825 - val_loss: 0.2600\n",
      "Epoch 5/50\n",
      "\u001b[1m113/113\u001b[0m \u001b[32m━━━━━━━━━━━━━━━━━━━━\u001b[0m\u001b[37m\u001b[0m \u001b[1m0s\u001b[0m 3ms/step - accuracy: 0.8753 - loss: 0.2887 - val_accuracy: 0.8775 - val_loss: 0.2531\n",
      "Epoch 6/50\n",
      "\u001b[1m113/113\u001b[0m \u001b[32m━━━━━━━━━━━━━━━━━━━━\u001b[0m\u001b[37m\u001b[0m \u001b[1m0s\u001b[0m 3ms/step - accuracy: 0.8808 - loss: 0.2836 - val_accuracy: 0.8775 - val_loss: 0.2510\n",
      "Epoch 7/50\n",
      "\u001b[1m113/113\u001b[0m \u001b[32m━━━━━━━━━━━━━━━━━━━━\u001b[0m\u001b[37m\u001b[0m \u001b[1m0s\u001b[0m 3ms/step - accuracy: 0.8758 - loss: 0.2812 - val_accuracy: 0.8800 - val_loss: 0.2490\n",
      "Epoch 8/50\n",
      "\u001b[1m113/113\u001b[0m \u001b[32m━━━━━━━━━━━━━━━━━━━━\u001b[0m\u001b[37m\u001b[0m \u001b[1m0s\u001b[0m 3ms/step - accuracy: 0.8847 - loss: 0.2750 - val_accuracy: 0.8775 - val_loss: 0.2449\n",
      "Epoch 9/50\n",
      "\u001b[1m113/113\u001b[0m \u001b[32m━━━━━━━━━━━━━━━━━━━━\u001b[0m\u001b[37m\u001b[0m \u001b[1m0s\u001b[0m 3ms/step - accuracy: 0.8869 - loss: 0.2641 - val_accuracy: 0.8800 - val_loss: 0.2446\n",
      "Epoch 10/50\n",
      "\u001b[1m113/113\u001b[0m \u001b[32m━━━━━━━━━━━━━━━━━━━━\u001b[0m\u001b[37m\u001b[0m \u001b[1m0s\u001b[0m 3ms/step - accuracy: 0.8867 - loss: 0.2665 - val_accuracy: 0.8825 - val_loss: 0.2423\n",
      "Epoch 11/50\n",
      "\u001b[1m113/113\u001b[0m \u001b[32m━━━━━━━━━━━━━━━━━━━━\u001b[0m\u001b[37m\u001b[0m \u001b[1m0s\u001b[0m 3ms/step - accuracy: 0.8914 - loss: 0.2581 - val_accuracy: 0.8750 - val_loss: 0.2423\n",
      "Epoch 12/50\n",
      "\u001b[1m113/113\u001b[0m \u001b[32m━━━━━━━━━━━━━━━━━━━━\u001b[0m\u001b[37m\u001b[0m \u001b[1m0s\u001b[0m 3ms/step - accuracy: 0.8919 - loss: 0.2551 - val_accuracy: 0.8800 - val_loss: 0.2418\n",
      "Epoch 13/50\n",
      "\u001b[1m113/113\u001b[0m \u001b[32m━━━━━━━━━━━━━━━━━━━━\u001b[0m\u001b[37m\u001b[0m \u001b[1m0s\u001b[0m 3ms/step - accuracy: 0.8897 - loss: 0.2526 - val_accuracy: 0.8825 - val_loss: 0.2405\n",
      "Epoch 14/50\n",
      "\u001b[1m113/113\u001b[0m \u001b[32m━━━━━━━━━━━━━━━━━━━━\u001b[0m\u001b[37m\u001b[0m \u001b[1m0s\u001b[0m 3ms/step - accuracy: 0.8911 - loss: 0.2490 - val_accuracy: 0.8800 - val_loss: 0.2441\n",
      "Epoch 15/50\n",
      "\u001b[1m113/113\u001b[0m \u001b[32m━━━━━━━━━━━━━━━━━━━━\u001b[0m\u001b[37m\u001b[0m \u001b[1m0s\u001b[0m 3ms/step - accuracy: 0.8889 - loss: 0.2521 - val_accuracy: 0.8925 - val_loss: 0.2417\n",
      "Epoch 16/50\n",
      "\u001b[1m113/113\u001b[0m \u001b[32m━━━━━━━━━━━━━━━━━━━━\u001b[0m\u001b[37m\u001b[0m \u001b[1m0s\u001b[0m 3ms/step - accuracy: 0.8928 - loss: 0.2442 - val_accuracy: 0.8750 - val_loss: 0.2432\n",
      "Epoch 17/50\n",
      "\u001b[1m113/113\u001b[0m \u001b[32m━━━━━━━━━━━━━━━━━━━━\u001b[0m\u001b[37m\u001b[0m \u001b[1m0s\u001b[0m 3ms/step - accuracy: 0.8950 - loss: 0.2471 - val_accuracy: 0.8825 - val_loss: 0.2432\n",
      "Epoch 18/50\n",
      "\u001b[1m113/113\u001b[0m \u001b[32m━━━━━━━━━━━━━━━━━━━━\u001b[0m\u001b[37m\u001b[0m \u001b[1m0s\u001b[0m 3ms/step - accuracy: 0.8942 - loss: 0.2495 - val_accuracy: 0.8875 - val_loss: 0.2426\n",
      "Epoch 19/50\n",
      "\u001b[1m113/113\u001b[0m \u001b[32m━━━━━━━━━━━━━━━━━━━━\u001b[0m\u001b[37m\u001b[0m \u001b[1m0s\u001b[0m 3ms/step - accuracy: 0.8956 - loss: 0.2451 - val_accuracy: 0.8800 - val_loss: 0.2423\n",
      "Epoch 20/50\n",
      "\u001b[1m113/113\u001b[0m \u001b[32m━━━━━━━━━━━━━━━━━━━━\u001b[0m\u001b[37m\u001b[0m \u001b[1m0s\u001b[0m 3ms/step - accuracy: 0.8900 - loss: 0.2423 - val_accuracy: 0.8825 - val_loss: 0.2432\n",
      "Epoch 21/50\n",
      "\u001b[1m113/113\u001b[0m \u001b[32m━━━━━━━━━━━━━━━━━━━━\u001b[0m\u001b[37m\u001b[0m \u001b[1m0s\u001b[0m 4ms/step - accuracy: 0.8933 - loss: 0.2428 - val_accuracy: 0.8775 - val_loss: 0.2456\n",
      "Epoch 22/50\n",
      "\u001b[1m113/113\u001b[0m \u001b[32m━━━━━━━━━━━━━━━━━━━━\u001b[0m\u001b[37m\u001b[0m \u001b[1m0s\u001b[0m 3ms/step - accuracy: 0.8956 - loss: 0.2380 - val_accuracy: 0.8975 - val_loss: 0.2397\n",
      "Epoch 23/50\n",
      "\u001b[1m113/113\u001b[0m \u001b[32m━━━━━━━━━━━━━━━━━━━━\u001b[0m\u001b[37m\u001b[0m \u001b[1m0s\u001b[0m 4ms/step - accuracy: 0.8967 - loss: 0.2407 - val_accuracy: 0.8875 - val_loss: 0.2387\n",
      "Epoch 24/50\n",
      "\u001b[1m113/113\u001b[0m \u001b[32m━━━━━━━━━━━━━━━━━━━━\u001b[0m\u001b[37m\u001b[0m \u001b[1m0s\u001b[0m 3ms/step - accuracy: 0.8983 - loss: 0.2408 - val_accuracy: 0.8850 - val_loss: 0.2419\n",
      "Epoch 25/50\n",
      "\u001b[1m113/113\u001b[0m \u001b[32m━━━━━━━━━━━━━━━━━━━━\u001b[0m\u001b[37m\u001b[0m \u001b[1m0s\u001b[0m 3ms/step - accuracy: 0.8989 - loss: 0.2355 - val_accuracy: 0.8900 - val_loss: 0.2414\n",
      "Epoch 26/50\n",
      "\u001b[1m113/113\u001b[0m \u001b[32m━━━━━━━━━━━━━━━━━━━━\u001b[0m\u001b[37m\u001b[0m \u001b[1m0s\u001b[0m 3ms/step - accuracy: 0.8983 - loss: 0.2347 - val_accuracy: 0.8900 - val_loss: 0.2407\n",
      "Epoch 27/50\n",
      "\u001b[1m113/113\u001b[0m \u001b[32m━━━━━━━━━━━━━━━━━━━━\u001b[0m\u001b[37m\u001b[0m \u001b[1m0s\u001b[0m 3ms/step - accuracy: 0.8975 - loss: 0.2357 - val_accuracy: 0.8950 - val_loss: 0.2377\n",
      "Epoch 28/50\n",
      "\u001b[1m113/113\u001b[0m \u001b[32m━━━━━━━━━━━━━━━━━━━━\u001b[0m\u001b[37m\u001b[0m \u001b[1m0s\u001b[0m 2ms/step - accuracy: 0.8989 - loss: 0.2305 - val_accuracy: 0.9025 - val_loss: 0.2379\n",
      "Epoch 29/50\n",
      "\u001b[1m113/113\u001b[0m \u001b[32m━━━━━━━━━━━━━━━━━━━━\u001b[0m\u001b[37m\u001b[0m \u001b[1m0s\u001b[0m 3ms/step - accuracy: 0.9036 - loss: 0.2285 - val_accuracy: 0.8975 - val_loss: 0.2409\n",
      "Epoch 30/50\n",
      "\u001b[1m113/113\u001b[0m \u001b[32m━━━━━━━━━━━━━━━━━━━━\u001b[0m\u001b[37m\u001b[0m \u001b[1m0s\u001b[0m 2ms/step - accuracy: 0.9022 - loss: 0.2324 - val_accuracy: 0.8750 - val_loss: 0.2401\n",
      "Epoch 31/50\n",
      "\u001b[1m113/113\u001b[0m \u001b[32m━━━━━━━━━━━━━━━━━━━━\u001b[0m\u001b[37m\u001b[0m \u001b[1m0s\u001b[0m 3ms/step - accuracy: 0.9003 - loss: 0.2301 - val_accuracy: 0.8725 - val_loss: 0.2405\n",
      "Epoch 32/50\n",
      "\u001b[1m113/113\u001b[0m \u001b[32m━━━━━━━━━━━━━━━━━━━━\u001b[0m\u001b[37m\u001b[0m \u001b[1m0s\u001b[0m 3ms/step - accuracy: 0.9011 - loss: 0.2349 - val_accuracy: 0.8800 - val_loss: 0.2407\n",
      "Epoch 33/50\n",
      "\u001b[1m113/113\u001b[0m \u001b[32m━━━━━━━━━━━━━━━━━━━━\u001b[0m\u001b[37m\u001b[0m \u001b[1m0s\u001b[0m 3ms/step - accuracy: 0.9008 - loss: 0.2276 - val_accuracy: 0.8950 - val_loss: 0.2451\n",
      "Epoch 34/50\n",
      "\u001b[1m113/113\u001b[0m \u001b[32m━━━━━━━━━━━━━━━━━━━━\u001b[0m\u001b[37m\u001b[0m \u001b[1m0s\u001b[0m 2ms/step - accuracy: 0.9011 - loss: 0.2310 - val_accuracy: 0.8900 - val_loss: 0.2414\n",
      "Epoch 35/50\n",
      "\u001b[1m113/113\u001b[0m \u001b[32m━━━━━━━━━━━━━━━━━━━━\u001b[0m\u001b[37m\u001b[0m \u001b[1m0s\u001b[0m 3ms/step - accuracy: 0.9039 - loss: 0.2243 - val_accuracy: 0.8925 - val_loss: 0.2422\n",
      "Epoch 36/50\n",
      "\u001b[1m113/113\u001b[0m \u001b[32m━━━━━━━━━━━━━━━━━━━━\u001b[0m\u001b[37m\u001b[0m \u001b[1m0s\u001b[0m 3ms/step - accuracy: 0.9014 - loss: 0.2261 - val_accuracy: 0.8950 - val_loss: 0.2400\n",
      "Epoch 37/50\n",
      "\u001b[1m113/113\u001b[0m \u001b[32m━━━━━━━━━━━━━━━━━━━━\u001b[0m\u001b[37m\u001b[0m \u001b[1m0s\u001b[0m 3ms/step - accuracy: 0.9056 - loss: 0.2221 - val_accuracy: 0.8750 - val_loss: 0.2405\n",
      "Epoch 38/50\n",
      "\u001b[1m113/113\u001b[0m \u001b[32m━━━━━━━━━━━━━━━━━━━━\u001b[0m\u001b[37m\u001b[0m \u001b[1m0s\u001b[0m 3ms/step - accuracy: 0.9081 - loss: 0.2211 - val_accuracy: 0.8750 - val_loss: 0.2426\n",
      "Epoch 39/50\n",
      "\u001b[1m113/113\u001b[0m \u001b[32m━━━━━━━━━━━━━━━━━━━━\u001b[0m\u001b[37m\u001b[0m \u001b[1m0s\u001b[0m 3ms/step - accuracy: 0.9081 - loss: 0.2211 - val_accuracy: 0.8725 - val_loss: 0.2433\n",
      "Epoch 40/50\n",
      "\u001b[1m113/113\u001b[0m \u001b[32m━━━━━━━━━━━━━━━━━━━━\u001b[0m\u001b[37m\u001b[0m \u001b[1m0s\u001b[0m 3ms/step - accuracy: 0.9031 - loss: 0.2254 - val_accuracy: 0.8800 - val_loss: 0.2442\n",
      "Epoch 41/50\n",
      "\u001b[1m113/113\u001b[0m \u001b[32m━━━━━━━━━━━━━━━━━━━━\u001b[0m\u001b[37m\u001b[0m \u001b[1m0s\u001b[0m 3ms/step - accuracy: 0.9058 - loss: 0.2211 - val_accuracy: 0.8925 - val_loss: 0.2418\n",
      "Epoch 42/50\n",
      "\u001b[1m113/113\u001b[0m \u001b[32m━━━━━━━━━━━━━━━━━━━━\u001b[0m\u001b[37m\u001b[0m \u001b[1m0s\u001b[0m 3ms/step - accuracy: 0.9089 - loss: 0.2164 - val_accuracy: 0.8825 - val_loss: 0.2435\n",
      "Epoch 43/50\n",
      "\u001b[1m113/113\u001b[0m \u001b[32m━━━━━━━━━━━━━━━━━━━━\u001b[0m\u001b[37m\u001b[0m \u001b[1m0s\u001b[0m 3ms/step - accuracy: 0.9053 - loss: 0.2197 - val_accuracy: 0.8925 - val_loss: 0.2407\n",
      "Epoch 44/50\n",
      "\u001b[1m113/113\u001b[0m \u001b[32m━━━━━━━━━━━━━━━━━━━━\u001b[0m\u001b[37m\u001b[0m \u001b[1m0s\u001b[0m 3ms/step - accuracy: 0.9072 - loss: 0.2216 - val_accuracy: 0.8675 - val_loss: 0.2484\n",
      "Epoch 45/50\n",
      "\u001b[1m113/113\u001b[0m \u001b[32m━━━━━━━━━━━━━━━━━━━━\u001b[0m\u001b[37m\u001b[0m \u001b[1m0s\u001b[0m 3ms/step - accuracy: 0.9039 - loss: 0.2182 - val_accuracy: 0.8900 - val_loss: 0.2410\n",
      "Epoch 46/50\n",
      "\u001b[1m113/113\u001b[0m \u001b[32m━━━━━━━━━━━━━━━━━━━━\u001b[0m\u001b[37m\u001b[0m \u001b[1m0s\u001b[0m 3ms/step - accuracy: 0.9108 - loss: 0.2142 - val_accuracy: 0.8850 - val_loss: 0.2457\n",
      "Epoch 47/50\n",
      "\u001b[1m113/113\u001b[0m \u001b[32m━━━━━━━━━━━━━━━━━━━━\u001b[0m\u001b[37m\u001b[0m \u001b[1m0s\u001b[0m 3ms/step - accuracy: 0.9111 - loss: 0.2164 - val_accuracy: 0.8875 - val_loss: 0.2455\n",
      "Epoch 48/50\n",
      "\u001b[1m113/113\u001b[0m \u001b[32m━━━━━━━━━━━━━━━━━━━━\u001b[0m\u001b[37m\u001b[0m \u001b[1m0s\u001b[0m 3ms/step - accuracy: 0.9086 - loss: 0.2162 - val_accuracy: 0.8925 - val_loss: 0.2454\n",
      "Epoch 49/50\n",
      "\u001b[1m113/113\u001b[0m \u001b[32m━━━━━━━━━━━━━━━━━━━━\u001b[0m\u001b[37m\u001b[0m \u001b[1m0s\u001b[0m 3ms/step - accuracy: 0.9100 - loss: 0.2166 - val_accuracy: 0.8925 - val_loss: 0.2434\n",
      "Epoch 50/50\n",
      "\u001b[1m113/113\u001b[0m \u001b[32m━━━━━━━━━━━━━━━━━━━━\u001b[0m\u001b[37m\u001b[0m \u001b[1m0s\u001b[0m 3ms/step - accuracy: 0.9144 - loss: 0.2121 - val_accuracy: 0.8925 - val_loss: 0.2457\n"
     ]
    }
   ],
   "source": [
    "# Entrenar el modelo con los datos de entrenamiento\n",
    "\n",
    "history = model.fit(X_train_processed, y_train,\n",
    "                    epochs=50, # Número de veces que el modelo verá todos los datos\n",
    "                    batch_size=32,\n",
    "                    validation_split=0.1, # Usar una parte de los datos de entrenamiento para validar en cada época\n",
    "                    verbose=1)"
   ]
  },
  {
   "cell_type": "markdown",
   "id": "1966347e",
   "metadata": {},
   "source": [
    "Evaluar el Modelo"
   ]
  },
  {
   "cell_type": "code",
   "execution_count": 6,
   "id": "7d95881b",
   "metadata": {},
   "outputs": [
    {
     "name": "stdout",
     "output_type": "stream",
     "text": [
      "\u001b[1m32/32\u001b[0m \u001b[32m━━━━━━━━━━━━━━━━━━━━\u001b[0m\u001b[37m\u001b[0m \u001b[1m0s\u001b[0m 2ms/step - accuracy: 0.8980 - loss: 0.2296 \n",
      "\n",
      "Accuracy en el conjunto de prueba: 89.80%\n",
      "\u001b[1m32/32\u001b[0m \u001b[32m━━━━━━━━━━━━━━━━━━━━\u001b[0m\u001b[37m\u001b[0m \u001b[1m0s\u001b[0m 3ms/step\n",
      "AUC en el conjunto de prueba: 0.9444\n"
     ]
    }
   ],
   "source": [
    "# Evaluar el rendimiento en el conjunto de prueba\n",
    "\n",
    "loss, accuracy = model.evaluate(X_test_processed, y_test)\n",
    "print(f\"\\nAccuracy en el conjunto de prueba: {accuracy*100:.2f}%\")\n",
    "\n",
    "# Calcular el AUC (Área Bajo la Curva ROC), una métrica robusta\n",
    "\n",
    "y_pred_proba = model.predict(X_test_processed).flatten()\n",
    "auc = roc_auc_score(y_test, y_pred_proba)\n",
    "print(f\"AUC en el conjunto de prueba: {auc:.4f}\")"
   ]
  },
  {
   "cell_type": "markdown",
   "id": "d8ec8426",
   "metadata": {},
   "source": [
    "Guardar el Modelo y el Scaler"
   ]
  },
  {
   "cell_type": "code",
   "execution_count": 7,
   "id": "9580d266",
   "metadata": {},
   "outputs": [
    {
     "name": "stderr",
     "output_type": "stream",
     "text": [
      "WARNING:absl:You are saving your model as an HDF5 file via `model.save()` or `keras.saving.save_model(model)`. This file format is considered legacy. We recommend using instead the native Keras format, e.g. `model.save('my_model.keras')` or `keras.saving.save_model(model, 'my_model.keras')`. \n"
     ]
    },
    {
     "name": "stdout",
     "output_type": "stream",
     "text": [
      "Modelo guardado como 'modelo_cancer.h5'\n",
      "¡Correcto! Preprocessor guardado como 'preprocessor.pkl'\n"
     ]
    }
   ],
   "source": [
    "# Guardar el modelo entrenado\n",
    "model.save('modelo_cancer.h5')\n",
    "print(\"Modelo guardado como 'modelo_cancer.h5'\")\n",
    "\n",
    "# Guardar el objeto PREPROCESSOR completo\n",
    "# Este es el archivo que usará el back-end\n",
    "joblib.dump(preprocessor, 'preprocessor.pkl') \n",
    "print(\"¡Correcto! Preprocessor guardado como 'preprocessor.pkl'\")"
   ]
  }
 ],
 "metadata": {
  "kernelspec": {
   "display_name": "venv",
   "language": "python",
   "name": "python3"
  },
  "language_info": {
   "codemirror_mode": {
    "name": "ipython",
    "version": 3
   },
   "file_extension": ".py",
   "mimetype": "text/x-python",
   "name": "python",
   "nbconvert_exporter": "python",
   "pygments_lexer": "ipython3",
   "version": "3.11.9"
  }
 },
 "nbformat": 4,
 "nbformat_minor": 5
}
